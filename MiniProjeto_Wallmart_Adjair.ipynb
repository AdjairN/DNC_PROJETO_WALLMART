{
  "nbformat": 4,
  "nbformat_minor": 0,
  "metadata": {
    "colab": {
      "provenance": [],
      "collapsed_sections": []
    },
    "kernelspec": {
      "name": "python3",
      "display_name": "Python 3"
    },
    "language_info": {
      "name": "python"
    }
  },
  "cells": [
    {
      "cell_type": "markdown",
      "source": [
        "#Introdução\n",
        "> Walmart, Inc., é uma multinacional estadunidense de lojas de departamento.  \n",
        "A companhia foi fundada por Sam Walton em 1962, incorporada em 31 de outubro de 1969 e feita capital aberto na New York Stock Exchange, em 1972.   \n",
        "No ano de 2021, obteve um um lucro de $13.51 Bilhões.  \n",
        "Sendo uma das principais lojas de varejo do mundo, os dados contemplam as vendas semanais de 45 lojas espalhadas pelos Estados Unidos.   \n",
        "O Walmart realiza vários eventos promocionais de descontos ao longo do ano. \n",
        "Essas remarcações precedem feriados importantes, os quatro maiores de todos, que são o Super Bowl, o Dia do Trabalho, o Dia de Ação de Graças e o Natal. \n",
        "As semanas que incluem esses feriados têm um peso maior.\n"
      ],
      "metadata": {
        "id": "nem61XamwG0N"
      }
    },
    {
      "cell_type": "markdown",
      "source": [
        "# 1.0 A questão do negócio\n",
        "A empresa Walmart deseja fazer um investimento em uma das lojas localizadas nos Estados Unidos a fim de expandir seu tamanho.  \n",
        "Foram avaliados os dados de 45 lojas, com as seguintes\n",
        "informações:  \n",
        ">● Semana de Venda;  \n",
        "● Venda Naquela Semana;  \n",
        "● Flag se é ou não semana com feriado (1 - Holiday Week 0 - Non-HolidayWeek);  \n",
        "● Temperatura do dia em °F;  \n",
        "● Preço do combustível na região da loja;  \n",
        "● Índice de preços ao consumidor e  \n",
        "● Taxa de desemprego.\n"
      ],
      "metadata": {
        "id": "HhMrLEaLxMkZ"
      }
    },
    {
      "cell_type": "markdown",
      "source": [
        "#2.0 Entendimento do negócio\n",
        "Através dos dados disponibilizados, foram analisados gráficos e DataFrames (Tabelas) para ser possível determinar:  \n",
        ">● As Lojas com maiores médias de Vendas Semanais;  \n",
        "● Preço médio de venda semanal por loja;  \n",
        "● A loja com maior venda acumulada (soma de vendas de todo o\n",
        "período) e em quantas semanas do ano ela ultrapassou a média do\n",
        "período;  \n",
        "● Vendas máximas, mínimas e médias de todas as lojas\n",
        "ao longo do tempo;  \n",
        "● Comparativo dos preços de combustível na região da loja;  \n",
        "● Comparativo de taxa de desemprego;  \n",
        "● Índice de temperatura: para avaliar em quais lojas a temperatura\n",
        "média tem a possibilidade de nevar;  \n",
        "● Médias por loja e visualização e ordenação decrescente pelas maiores médias de venda\n",
        "\n",
        "Com essa análise foi possível visualizar dentre as que mais vendem, o que elas têm em comum e principalmente se, dentre estes que mais vendem, tem algum que se destaca por ter índices diferentes."
      ],
      "metadata": {
        "id": "TX3rI8G40wO8"
      }
    },
    {
      "cell_type": "markdown",
      "source": [
        "# 3.0 Coleta de dados "
      ],
      "metadata": {
        "id": "2mO07gWc0347"
      }
    },
    {
      "cell_type": "markdown",
      "source": [
        "## 3.1 Descrição dos dados\n",
        "\n",
        "###Feriados\n",
        "> **Super Bowl**: 12-Feb-10, 11-Feb-11, 10-Feb-12    \n",
        "**Labour Day**: 10-Sep-10, 09-Sep-11, 07-Sep-12  \n",
        "**Thanksgiving**:26-Nov-10, 25-Nov-11, 23-Nov-1  \n",
        "**Christmas**:31-Dec-10, 30-Dec-11, 28-Dec-12\n",
        "\n",
        "###Variáveis\n",
        "> **Store**: Número da Loja  \n",
        "**Date**:Semana de Venda  \n",
        "**Weekly_Sales**:Venda Naquela Semana    \n",
        "**Holiday_Flag**:Flag se é ou não semana com feriado (1 - Holiday Week 0 - Non-Holiday Week)  \n",
        "**Temperature**:Temperatura do dia em °F  \n",
        "**Fuel_Price**:Preço do combustível na região da loja  \n",
        "**CPI**:Índice de preços ao consumidor  \n",
        "**Unemployment**:Taxa de desemprego\n",
        "\n",
        "\n",
        " \n",
        "\n",
        "\n",
        "\n",
        "\n",
        "\n",
        "\n",
        "\n",
        "\n",
        "\n",
        "\n",
        "\n",
        "\n",
        "\n",
        " \n",
        "\n",
        "\n",
        "\n",
        "\n",
        "\n"
      ],
      "metadata": {
        "id": "puJXn99r1OCd"
      }
    },
    {
      "cell_type": "markdown",
      "source": [
        "## 3.2 Importação das bibliotecas usadas"
      ],
      "metadata": {
        "id": "3H7EFDeTOyZc"
      }
    },
    {
      "cell_type": "code",
      "source": [
        "import pandas as pd\n",
        "pd.set_option(\"display.float_format\", lambda x: \"%.2f\" % x)\n",
        "import numpy as np\n",
        "import matplotlib.pyplot as plt\n",
        "import seaborn as sns\n",
        "import scipy.stats as stats\n",
        "from datetime import datetime"
      ],
      "metadata": {
        "id": "FM7K4nrCKrjW"
      },
      "execution_count": null,
      "outputs": []
    },
    {
      "cell_type": "markdown",
      "source": [
        "## 3.3 Tranformando o arquivo CSV em um dataframe para melhor vizualização das colunas"
      ],
      "metadata": {
        "id": "Kt5jFDScPFLp"
      }
    },
    {
      "cell_type": "code",
      "source": [
        "df = pd.read_csv('sample_data/Walmart.csv', sep=';')\n",
        "df"
      ],
      "metadata": {
        "colab": {
          "base_uri": "https://localhost:8080/",
          "height": 424
        },
        "id": "PEaIocunPHGV",
        "outputId": "00d93e46-37fe-4247-ce06-5e83feb85512"
      },
      "execution_count": null,
      "outputs": [
        {
          "output_type": "execute_result",
          "data": {
            "text/plain": [
              "      Store        Date  Weekly_Sales  Holiday_Flag  Temperature  Fuel_Price  \\\n",
              "0         1  05/02/2010    1643690.90             0        42.31        2.57   \n",
              "1         1  12/02/2010    1641957.44             1        38.51        2.55   \n",
              "2         1  19/02/2010    1611968.17             0        39.93        2.51   \n",
              "3         1  26/02/2010    1409727.59             0        46.63        2.56   \n",
              "4         1  05/03/2010    1554806.68             0        46.50        2.62   \n",
              "...     ...         ...           ...           ...          ...         ...   \n",
              "6430     45  28/09/2012     713173.95             0        64.88        4.00   \n",
              "6431     45  05/10/2012     733455.07             0        64.89        3.98   \n",
              "6432     45  12/10/2012     734464.36             0        54.47        4.00   \n",
              "6433     45  19/10/2012     718125.53             0        56.47        3.97   \n",
              "6434     45  26/10/2012     760281.43             0        58.85        3.88   \n",
              "\n",
              "                CPI  Unemployment  \n",
              "0     2.110.963.582          8.11  \n",
              "1     2.112.421.698          8.11  \n",
              "2     2.112.891.429          8.11  \n",
              "3     2.113.196.429          8.11  \n",
              "4     2.113.501.429          8.11  \n",
              "...             ...           ...  \n",
              "6430  1.920.135.577          8.68  \n",
              "6431  1.921.704.115          8.67  \n",
              "6432  1.923.272.654          8.67  \n",
              "6433  1.923.308.542          8.67  \n",
              "6434  1.923.088.989          8.67  \n",
              "\n",
              "[6435 rows x 8 columns]"
            ],
            "text/html": [
              "\n",
              "  <div id=\"df-fed831f2-afe0-49b4-bb86-86df693d7e1c\">\n",
              "    <div class=\"colab-df-container\">\n",
              "      <div>\n",
              "<style scoped>\n",
              "    .dataframe tbody tr th:only-of-type {\n",
              "        vertical-align: middle;\n",
              "    }\n",
              "\n",
              "    .dataframe tbody tr th {\n",
              "        vertical-align: top;\n",
              "    }\n",
              "\n",
              "    .dataframe thead th {\n",
              "        text-align: right;\n",
              "    }\n",
              "</style>\n",
              "<table border=\"1\" class=\"dataframe\">\n",
              "  <thead>\n",
              "    <tr style=\"text-align: right;\">\n",
              "      <th></th>\n",
              "      <th>Store</th>\n",
              "      <th>Date</th>\n",
              "      <th>Weekly_Sales</th>\n",
              "      <th>Holiday_Flag</th>\n",
              "      <th>Temperature</th>\n",
              "      <th>Fuel_Price</th>\n",
              "      <th>CPI</th>\n",
              "      <th>Unemployment</th>\n",
              "    </tr>\n",
              "  </thead>\n",
              "  <tbody>\n",
              "    <tr>\n",
              "      <th>0</th>\n",
              "      <td>1</td>\n",
              "      <td>05/02/2010</td>\n",
              "      <td>1643690.90</td>\n",
              "      <td>0</td>\n",
              "      <td>42.31</td>\n",
              "      <td>2.57</td>\n",
              "      <td>2.110.963.582</td>\n",
              "      <td>8.11</td>\n",
              "    </tr>\n",
              "    <tr>\n",
              "      <th>1</th>\n",
              "      <td>1</td>\n",
              "      <td>12/02/2010</td>\n",
              "      <td>1641957.44</td>\n",
              "      <td>1</td>\n",
              "      <td>38.51</td>\n",
              "      <td>2.55</td>\n",
              "      <td>2.112.421.698</td>\n",
              "      <td>8.11</td>\n",
              "    </tr>\n",
              "    <tr>\n",
              "      <th>2</th>\n",
              "      <td>1</td>\n",
              "      <td>19/02/2010</td>\n",
              "      <td>1611968.17</td>\n",
              "      <td>0</td>\n",
              "      <td>39.93</td>\n",
              "      <td>2.51</td>\n",
              "      <td>2.112.891.429</td>\n",
              "      <td>8.11</td>\n",
              "    </tr>\n",
              "    <tr>\n",
              "      <th>3</th>\n",
              "      <td>1</td>\n",
              "      <td>26/02/2010</td>\n",
              "      <td>1409727.59</td>\n",
              "      <td>0</td>\n",
              "      <td>46.63</td>\n",
              "      <td>2.56</td>\n",
              "      <td>2.113.196.429</td>\n",
              "      <td>8.11</td>\n",
              "    </tr>\n",
              "    <tr>\n",
              "      <th>4</th>\n",
              "      <td>1</td>\n",
              "      <td>05/03/2010</td>\n",
              "      <td>1554806.68</td>\n",
              "      <td>0</td>\n",
              "      <td>46.50</td>\n",
              "      <td>2.62</td>\n",
              "      <td>2.113.501.429</td>\n",
              "      <td>8.11</td>\n",
              "    </tr>\n",
              "    <tr>\n",
              "      <th>...</th>\n",
              "      <td>...</td>\n",
              "      <td>...</td>\n",
              "      <td>...</td>\n",
              "      <td>...</td>\n",
              "      <td>...</td>\n",
              "      <td>...</td>\n",
              "      <td>...</td>\n",
              "      <td>...</td>\n",
              "    </tr>\n",
              "    <tr>\n",
              "      <th>6430</th>\n",
              "      <td>45</td>\n",
              "      <td>28/09/2012</td>\n",
              "      <td>713173.95</td>\n",
              "      <td>0</td>\n",
              "      <td>64.88</td>\n",
              "      <td>4.00</td>\n",
              "      <td>1.920.135.577</td>\n",
              "      <td>8.68</td>\n",
              "    </tr>\n",
              "    <tr>\n",
              "      <th>6431</th>\n",
              "      <td>45</td>\n",
              "      <td>05/10/2012</td>\n",
              "      <td>733455.07</td>\n",
              "      <td>0</td>\n",
              "      <td>64.89</td>\n",
              "      <td>3.98</td>\n",
              "      <td>1.921.704.115</td>\n",
              "      <td>8.67</td>\n",
              "    </tr>\n",
              "    <tr>\n",
              "      <th>6432</th>\n",
              "      <td>45</td>\n",
              "      <td>12/10/2012</td>\n",
              "      <td>734464.36</td>\n",
              "      <td>0</td>\n",
              "      <td>54.47</td>\n",
              "      <td>4.00</td>\n",
              "      <td>1.923.272.654</td>\n",
              "      <td>8.67</td>\n",
              "    </tr>\n",
              "    <tr>\n",
              "      <th>6433</th>\n",
              "      <td>45</td>\n",
              "      <td>19/10/2012</td>\n",
              "      <td>718125.53</td>\n",
              "      <td>0</td>\n",
              "      <td>56.47</td>\n",
              "      <td>3.97</td>\n",
              "      <td>1.923.308.542</td>\n",
              "      <td>8.67</td>\n",
              "    </tr>\n",
              "    <tr>\n",
              "      <th>6434</th>\n",
              "      <td>45</td>\n",
              "      <td>26/10/2012</td>\n",
              "      <td>760281.43</td>\n",
              "      <td>0</td>\n",
              "      <td>58.85</td>\n",
              "      <td>3.88</td>\n",
              "      <td>1.923.088.989</td>\n",
              "      <td>8.67</td>\n",
              "    </tr>\n",
              "  </tbody>\n",
              "</table>\n",
              "<p>6435 rows × 8 columns</p>\n",
              "</div>\n",
              "      <button class=\"colab-df-convert\" onclick=\"convertToInteractive('df-fed831f2-afe0-49b4-bb86-86df693d7e1c')\"\n",
              "              title=\"Convert this dataframe to an interactive table.\"\n",
              "              style=\"display:none;\">\n",
              "        \n",
              "  <svg xmlns=\"http://www.w3.org/2000/svg\" height=\"24px\"viewBox=\"0 0 24 24\"\n",
              "       width=\"24px\">\n",
              "    <path d=\"M0 0h24v24H0V0z\" fill=\"none\"/>\n",
              "    <path d=\"M18.56 5.44l.94 2.06.94-2.06 2.06-.94-2.06-.94-.94-2.06-.94 2.06-2.06.94zm-11 1L8.5 8.5l.94-2.06 2.06-.94-2.06-.94L8.5 2.5l-.94 2.06-2.06.94zm10 10l.94 2.06.94-2.06 2.06-.94-2.06-.94-.94-2.06-.94 2.06-2.06.94z\"/><path d=\"M17.41 7.96l-1.37-1.37c-.4-.4-.92-.59-1.43-.59-.52 0-1.04.2-1.43.59L10.3 9.45l-7.72 7.72c-.78.78-.78 2.05 0 2.83L4 21.41c.39.39.9.59 1.41.59.51 0 1.02-.2 1.41-.59l7.78-7.78 2.81-2.81c.8-.78.8-2.07 0-2.86zM5.41 20L4 18.59l7.72-7.72 1.47 1.35L5.41 20z\"/>\n",
              "  </svg>\n",
              "      </button>\n",
              "      \n",
              "  <style>\n",
              "    .colab-df-container {\n",
              "      display:flex;\n",
              "      flex-wrap:wrap;\n",
              "      gap: 12px;\n",
              "    }\n",
              "\n",
              "    .colab-df-convert {\n",
              "      background-color: #E8F0FE;\n",
              "      border: none;\n",
              "      border-radius: 50%;\n",
              "      cursor: pointer;\n",
              "      display: none;\n",
              "      fill: #1967D2;\n",
              "      height: 32px;\n",
              "      padding: 0 0 0 0;\n",
              "      width: 32px;\n",
              "    }\n",
              "\n",
              "    .colab-df-convert:hover {\n",
              "      background-color: #E2EBFA;\n",
              "      box-shadow: 0px 1px 2px rgba(60, 64, 67, 0.3), 0px 1px 3px 1px rgba(60, 64, 67, 0.15);\n",
              "      fill: #174EA6;\n",
              "    }\n",
              "\n",
              "    [theme=dark] .colab-df-convert {\n",
              "      background-color: #3B4455;\n",
              "      fill: #D2E3FC;\n",
              "    }\n",
              "\n",
              "    [theme=dark] .colab-df-convert:hover {\n",
              "      background-color: #434B5C;\n",
              "      box-shadow: 0px 1px 3px 1px rgba(0, 0, 0, 0.15);\n",
              "      filter: drop-shadow(0px 1px 2px rgba(0, 0, 0, 0.3));\n",
              "      fill: #FFFFFF;\n",
              "    }\n",
              "  </style>\n",
              "\n",
              "      <script>\n",
              "        const buttonEl =\n",
              "          document.querySelector('#df-fed831f2-afe0-49b4-bb86-86df693d7e1c button.colab-df-convert');\n",
              "        buttonEl.style.display =\n",
              "          google.colab.kernel.accessAllowed ? 'block' : 'none';\n",
              "\n",
              "        async function convertToInteractive(key) {\n",
              "          const element = document.querySelector('#df-fed831f2-afe0-49b4-bb86-86df693d7e1c');\n",
              "          const dataTable =\n",
              "            await google.colab.kernel.invokeFunction('convertToInteractive',\n",
              "                                                     [key], {});\n",
              "          if (!dataTable) return;\n",
              "\n",
              "          const docLinkHtml = 'Like what you see? Visit the ' +\n",
              "            '<a target=\"_blank\" href=https://colab.research.google.com/notebooks/data_table.ipynb>data table notebook</a>'\n",
              "            + ' to learn more about interactive tables.';\n",
              "          element.innerHTML = '';\n",
              "          dataTable['output_type'] = 'display_data';\n",
              "          await google.colab.output.renderOutput(dataTable, element);\n",
              "          const docLink = document.createElement('div');\n",
              "          docLink.innerHTML = docLinkHtml;\n",
              "          element.appendChild(docLink);\n",
              "        }\n",
              "      </script>\n",
              "    </div>\n",
              "  </div>\n",
              "  "
            ]
          },
          "metadata": {},
          "execution_count": 11
        }
      ]
    },
    {
      "cell_type": "code",
      "source": [
        "#Conferindo o Tipo de dados e observando a existência de dados nulos\n",
        "df.info()"
      ],
      "metadata": {
        "colab": {
          "base_uri": "https://localhost:8080/"
        },
        "id": "ymAmMDshPOMM",
        "outputId": "d9a184c1-5b9f-45b0-cd7d-cdd2fcb9fb97"
      },
      "execution_count": null,
      "outputs": [
        {
          "output_type": "stream",
          "name": "stdout",
          "text": [
            "<class 'pandas.core.frame.DataFrame'>\n",
            "RangeIndex: 6435 entries, 0 to 6434\n",
            "Data columns (total 8 columns):\n",
            " #   Column        Non-Null Count  Dtype  \n",
            "---  ------        --------------  -----  \n",
            " 0   Store         6435 non-null   int64  \n",
            " 1   Date          6435 non-null   object \n",
            " 2   Weekly_Sales  6435 non-null   float64\n",
            " 3   Holiday_Flag  6435 non-null   int64  \n",
            " 4   Temperature   6435 non-null   float64\n",
            " 5   Fuel_Price    6435 non-null   float64\n",
            " 6   CPI           6435 non-null   object \n",
            " 7   Unemployment  6435 non-null   float64\n",
            "dtypes: float64(4), int64(2), object(2)\n",
            "memory usage: 402.3+ KB\n"
          ]
        }
      ]
    },
    {
      "cell_type": "markdown",
      "source": [
        "# Transformando o Date em tipo data"
      ],
      "metadata": {
        "id": "cHKpHYjbEQpO"
      }
    },
    {
      "cell_type": "code",
      "source": [
        "df['Date'] = pd.to_datetime( df['Date'].dt.strftime('%m/%d/%Y'))"
      ],
      "metadata": {
        "id": "Tz-iK1QAAlFl"
      },
      "execution_count": null,
      "outputs": []
    },
    {
      "cell_type": "code",
      "source": [
        "df.info()"
      ],
      "metadata": {
        "colab": {
          "base_uri": "https://localhost:8080/"
        },
        "id": "8aBCFF9bCXsf",
        "outputId": "b8941e41-6ca2-4c2c-9fd8-fc4cb9013649"
      },
      "execution_count": null,
      "outputs": [
        {
          "output_type": "stream",
          "name": "stdout",
          "text": [
            "<class 'pandas.core.frame.DataFrame'>\n",
            "RangeIndex: 6435 entries, 0 to 6434\n",
            "Data columns (total 8 columns):\n",
            " #   Column        Non-Null Count  Dtype         \n",
            "---  ------        --------------  -----         \n",
            " 0   Store         6435 non-null   int64         \n",
            " 1   Date          6435 non-null   datetime64[ns]\n",
            " 2   Weekly_Sales  6435 non-null   float64       \n",
            " 3   Holiday_Flag  6435 non-null   int64         \n",
            " 4   Temperature   6435 non-null   float64       \n",
            " 5   Fuel_Price    6435 non-null   float64       \n",
            " 6   CPI           6435 non-null   object        \n",
            " 7   Unemployment  6435 non-null   float64       \n",
            "dtypes: datetime64[ns](1), float64(4), int64(2), object(1)\n",
            "memory usage: 402.3+ KB\n"
          ]
        }
      ]
    },
    {
      "cell_type": "markdown",
      "source": [
        "## 3.4 Verificando qual o preço médio de venda semanal"
      ],
      "metadata": {
        "id": "eAzT1B89QAMR"
      }
    },
    {
      "cell_type": "code",
      "source": [
        "media_semanal = df['Weekly_Sales'].mean().round(2)\n",
        "print(\"Média de venda semanal: \", media_semanal)\n"
      ],
      "metadata": {
        "colab": {
          "base_uri": "https://localhost:8080/"
        },
        "id": "aBqjzv7xQhIb",
        "outputId": "90c7dd26-419d-4b57-db9a-499a13fca9af"
      },
      "execution_count": null,
      "outputs": [
        {
          "output_type": "stream",
          "name": "stdout",
          "text": [
            "Média de venda semanal:  1046964.88\n"
          ]
        }
      ]
    },
    {
      "cell_type": "markdown",
      "source": [
        "## 3.5 Verificando a correlação das variáveis"
      ],
      "metadata": {
        "id": "DfL2C-lXWe43"
      }
    },
    {
      "cell_type": "code",
      "source": [
        "df.corr()"
      ],
      "metadata": {
        "colab": {
          "base_uri": "https://localhost:8080/",
          "height": 238
        },
        "id": "CrtKGTv_TdQu",
        "outputId": "dc53e51c-9372-408a-f9ec-365589936623"
      },
      "execution_count": null,
      "outputs": [
        {
          "output_type": "execute_result",
          "data": {
            "text/plain": [
              "              Store  Weekly_Sales  Holiday_Flag  Temperature  Fuel_Price  \\\n",
              "Store          1.00         -0.34         -0.00        -0.02        0.06   \n",
              "Weekly_Sales  -0.34          1.00          0.04        -0.06        0.01   \n",
              "Holiday_Flag  -0.00          0.04          1.00        -0.16       -0.08   \n",
              "Temperature   -0.02         -0.06         -0.16         1.00        0.14   \n",
              "Fuel_Price     0.06          0.01         -0.08         0.14        1.00   \n",
              "Unemployment   0.22         -0.11          0.01         0.10       -0.03   \n",
              "\n",
              "              Unemployment  \n",
              "Store                 0.22  \n",
              "Weekly_Sales         -0.11  \n",
              "Holiday_Flag          0.01  \n",
              "Temperature           0.10  \n",
              "Fuel_Price           -0.03  \n",
              "Unemployment          1.00  "
            ],
            "text/html": [
              "\n",
              "  <div id=\"df-d147f72b-0556-4211-b350-ffa390f8f48a\">\n",
              "    <div class=\"colab-df-container\">\n",
              "      <div>\n",
              "<style scoped>\n",
              "    .dataframe tbody tr th:only-of-type {\n",
              "        vertical-align: middle;\n",
              "    }\n",
              "\n",
              "    .dataframe tbody tr th {\n",
              "        vertical-align: top;\n",
              "    }\n",
              "\n",
              "    .dataframe thead th {\n",
              "        text-align: right;\n",
              "    }\n",
              "</style>\n",
              "<table border=\"1\" class=\"dataframe\">\n",
              "  <thead>\n",
              "    <tr style=\"text-align: right;\">\n",
              "      <th></th>\n",
              "      <th>Store</th>\n",
              "      <th>Weekly_Sales</th>\n",
              "      <th>Holiday_Flag</th>\n",
              "      <th>Temperature</th>\n",
              "      <th>Fuel_Price</th>\n",
              "      <th>Unemployment</th>\n",
              "    </tr>\n",
              "  </thead>\n",
              "  <tbody>\n",
              "    <tr>\n",
              "      <th>Store</th>\n",
              "      <td>1.00</td>\n",
              "      <td>-0.34</td>\n",
              "      <td>-0.00</td>\n",
              "      <td>-0.02</td>\n",
              "      <td>0.06</td>\n",
              "      <td>0.22</td>\n",
              "    </tr>\n",
              "    <tr>\n",
              "      <th>Weekly_Sales</th>\n",
              "      <td>-0.34</td>\n",
              "      <td>1.00</td>\n",
              "      <td>0.04</td>\n",
              "      <td>-0.06</td>\n",
              "      <td>0.01</td>\n",
              "      <td>-0.11</td>\n",
              "    </tr>\n",
              "    <tr>\n",
              "      <th>Holiday_Flag</th>\n",
              "      <td>-0.00</td>\n",
              "      <td>0.04</td>\n",
              "      <td>1.00</td>\n",
              "      <td>-0.16</td>\n",
              "      <td>-0.08</td>\n",
              "      <td>0.01</td>\n",
              "    </tr>\n",
              "    <tr>\n",
              "      <th>Temperature</th>\n",
              "      <td>-0.02</td>\n",
              "      <td>-0.06</td>\n",
              "      <td>-0.16</td>\n",
              "      <td>1.00</td>\n",
              "      <td>0.14</td>\n",
              "      <td>0.10</td>\n",
              "    </tr>\n",
              "    <tr>\n",
              "      <th>Fuel_Price</th>\n",
              "      <td>0.06</td>\n",
              "      <td>0.01</td>\n",
              "      <td>-0.08</td>\n",
              "      <td>0.14</td>\n",
              "      <td>1.00</td>\n",
              "      <td>-0.03</td>\n",
              "    </tr>\n",
              "    <tr>\n",
              "      <th>Unemployment</th>\n",
              "      <td>0.22</td>\n",
              "      <td>-0.11</td>\n",
              "      <td>0.01</td>\n",
              "      <td>0.10</td>\n",
              "      <td>-0.03</td>\n",
              "      <td>1.00</td>\n",
              "    </tr>\n",
              "  </tbody>\n",
              "</table>\n",
              "</div>\n",
              "      <button class=\"colab-df-convert\" onclick=\"convertToInteractive('df-d147f72b-0556-4211-b350-ffa390f8f48a')\"\n",
              "              title=\"Convert this dataframe to an interactive table.\"\n",
              "              style=\"display:none;\">\n",
              "        \n",
              "  <svg xmlns=\"http://www.w3.org/2000/svg\" height=\"24px\"viewBox=\"0 0 24 24\"\n",
              "       width=\"24px\">\n",
              "    <path d=\"M0 0h24v24H0V0z\" fill=\"none\"/>\n",
              "    <path d=\"M18.56 5.44l.94 2.06.94-2.06 2.06-.94-2.06-.94-.94-2.06-.94 2.06-2.06.94zm-11 1L8.5 8.5l.94-2.06 2.06-.94-2.06-.94L8.5 2.5l-.94 2.06-2.06.94zm10 10l.94 2.06.94-2.06 2.06-.94-2.06-.94-.94-2.06-.94 2.06-2.06.94z\"/><path d=\"M17.41 7.96l-1.37-1.37c-.4-.4-.92-.59-1.43-.59-.52 0-1.04.2-1.43.59L10.3 9.45l-7.72 7.72c-.78.78-.78 2.05 0 2.83L4 21.41c.39.39.9.59 1.41.59.51 0 1.02-.2 1.41-.59l7.78-7.78 2.81-2.81c.8-.78.8-2.07 0-2.86zM5.41 20L4 18.59l7.72-7.72 1.47 1.35L5.41 20z\"/>\n",
              "  </svg>\n",
              "      </button>\n",
              "      \n",
              "  <style>\n",
              "    .colab-df-container {\n",
              "      display:flex;\n",
              "      flex-wrap:wrap;\n",
              "      gap: 12px;\n",
              "    }\n",
              "\n",
              "    .colab-df-convert {\n",
              "      background-color: #E8F0FE;\n",
              "      border: none;\n",
              "      border-radius: 50%;\n",
              "      cursor: pointer;\n",
              "      display: none;\n",
              "      fill: #1967D2;\n",
              "      height: 32px;\n",
              "      padding: 0 0 0 0;\n",
              "      width: 32px;\n",
              "    }\n",
              "\n",
              "    .colab-df-convert:hover {\n",
              "      background-color: #E2EBFA;\n",
              "      box-shadow: 0px 1px 2px rgba(60, 64, 67, 0.3), 0px 1px 3px 1px rgba(60, 64, 67, 0.15);\n",
              "      fill: #174EA6;\n",
              "    }\n",
              "\n",
              "    [theme=dark] .colab-df-convert {\n",
              "      background-color: #3B4455;\n",
              "      fill: #D2E3FC;\n",
              "    }\n",
              "\n",
              "    [theme=dark] .colab-df-convert:hover {\n",
              "      background-color: #434B5C;\n",
              "      box-shadow: 0px 1px 3px 1px rgba(0, 0, 0, 0.15);\n",
              "      filter: drop-shadow(0px 1px 2px rgba(0, 0, 0, 0.3));\n",
              "      fill: #FFFFFF;\n",
              "    }\n",
              "  </style>\n",
              "\n",
              "      <script>\n",
              "        const buttonEl =\n",
              "          document.querySelector('#df-d147f72b-0556-4211-b350-ffa390f8f48a button.colab-df-convert');\n",
              "        buttonEl.style.display =\n",
              "          google.colab.kernel.accessAllowed ? 'block' : 'none';\n",
              "\n",
              "        async function convertToInteractive(key) {\n",
              "          const element = document.querySelector('#df-d147f72b-0556-4211-b350-ffa390f8f48a');\n",
              "          const dataTable =\n",
              "            await google.colab.kernel.invokeFunction('convertToInteractive',\n",
              "                                                     [key], {});\n",
              "          if (!dataTable) return;\n",
              "\n",
              "          const docLinkHtml = 'Like what you see? Visit the ' +\n",
              "            '<a target=\"_blank\" href=https://colab.research.google.com/notebooks/data_table.ipynb>data table notebook</a>'\n",
              "            + ' to learn more about interactive tables.';\n",
              "          element.innerHTML = '';\n",
              "          dataTable['output_type'] = 'display_data';\n",
              "          await google.colab.output.renderOutput(dataTable, element);\n",
              "          const docLink = document.createElement('div');\n",
              "          docLink.innerHTML = docLinkHtml;\n",
              "          element.appendChild(docLink);\n",
              "        }\n",
              "      </script>\n",
              "    </div>\n",
              "  </div>\n",
              "  "
            ]
          },
          "metadata": {},
          "execution_count": 10
        }
      ]
    },
    {
      "cell_type": "markdown",
      "source": [
        "## 3.6 Verificando no gráfico as correlações"
      ],
      "metadata": {
        "id": "MyXOy7SdWq9t"
      }
    },
    {
      "cell_type": "code",
      "source": [
        "plt.figure(figsize=(20, 10))\n",
        "sns.heatmap(df.corr(),\n",
        "            annot = True,\n",
        "            fmt = '.2f',\n",
        "            cmap='Blues')\n",
        "plt.title('Correlação entre variáveis do dataset')\n",
        "plt.show()"
      ],
      "metadata": {
        "colab": {
          "base_uri": "https://localhost:8080/",
          "height": 553
        },
        "id": "uZ8jg2EmVSXF",
        "outputId": "1e5fd439-8352-407c-e872-847029fa0766"
      },
      "execution_count": null,
      "outputs": [
        {
          "output_type": "display_data",
          "data": {
            "text/plain": [
              "<Figure size 1440x720 with 2 Axes>"
            ],
            "image/png": "[encoded data removed]"
          },
          "metadata": {
            "needs_background": "light"
          }
        }
      ]
    },
    {
      "cell_type": "markdown",
      "source": [
        "# 4.0 Insights"
      ],
      "metadata": {
        "id": "iZ4ms96St32B"
      }
    },
    {
      "cell_type": "markdown",
      "source": [
        "\n",
        "\n",
        "## 4.1 Verificação da média de vendas semanais por cada loja\n",
        "\n"
      ],
      "metadata": {
        "id": "CS-t6Bk0AFlW"
      }
    },
    {
      "cell_type": "code",
      "source": [
        "media_semanal = df.groupby(['Store'])['Weekly_Sales'].mean().round(2).sort_values(ascending = False)\n",
        "media_semanal"
      ],
      "metadata": {
        "colab": {
          "base_uri": "https://localhost:8080/"
        },
        "id": "7U5OHkMo75Ah",
        "outputId": "4a44ac3d-b8e0-4f5a-ab5e-df10b9ab0138"
      },
      "execution_count": null,
      "outputs": [
        {
          "output_type": "execute_result",
          "data": {
            "text/plain": [
              "Store\n",
              "20   2107676.87\n",
              "4    2094712.96\n",
              "14   2020978.40\n",
              "13   2003620.31\n",
              "2    1925751.34\n",
              "10   1899424.57\n",
              "27   1775216.20\n",
              "6    1564728.19\n",
              "1    1555264.40\n",
              "39   1450668.13\n",
              "19   1444999.04\n",
              "31   1395901.44\n",
              "23   1389864.46\n",
              "24   1356755.39\n",
              "11   1356383.12\n",
              "28   1323522.24\n",
              "41   1268125.42\n",
              "32   1166568.15\n",
              "18   1084718.42\n",
              "22   1028501.04\n",
              "12   1009001.61\n",
              "26   1002911.84\n",
              "34    966781.56\n",
              "40    964128.04\n",
              "35    919724.98\n",
              "8     908749.52\n",
              "17    893581.39\n",
              "45    785981.41\n",
              "21    756069.08\n",
              "25    706721.53\n",
              "43    633324.72\n",
              "15    623312.47\n",
              "7     570617.31\n",
              "42    556403.86\n",
              "9     543980.55\n",
              "29    539451.43\n",
              "16    519247.73\n",
              "37    518900.28\n",
              "30    438579.62\n",
              "3     402704.44\n",
              "38    385731.65\n",
              "36    373511.99\n",
              "5     318011.81\n",
              "44    302748.87\n",
              "33    259861.69\n",
              "Name: Weekly_Sales, dtype: float64"
            ]
          },
          "metadata": {},
          "execution_count": 42
        }
      ]
    },
    {
      "cell_type": "code",
      "source": [
        "means  = df[['Store','Weekly_Sales']].groupby('Store').mean()\n",
        "means.reset_index(inplace = True)\n",
        "means.rename(columns = {'Weekly_Sales':'Mean_Sales'}, inplace = True )\n",
        "media_semanal = pd.merge(df, means, how = 'left', on = 'Store')\n",
        "media_semanal[['Store','Date','Mean_Sales']]\n"
      ],
      "metadata": {
        "colab": {
          "base_uri": "https://localhost:8080/",
          "height": 424
        },
        "id": "YXTghSeAASxG",
        "outputId": "f6da3b78-e2e6-412f-a136-f67b29c9c9f3"
      },
      "execution_count": null,
      "outputs": [
        {
          "output_type": "execute_result",
          "data": {
            "text/plain": [
              "      Store        Date  Mean_Sales\n",
              "0         1  05/02/2010  1555264.40\n",
              "1         1  12/02/2010  1555264.40\n",
              "2         1  19/02/2010  1555264.40\n",
              "3         1  26/02/2010  1555264.40\n",
              "4         1  05/03/2010  1555264.40\n",
              "...     ...         ...         ...\n",
              "6430     45  28/09/2012   785981.41\n",
              "6431     45  05/10/2012   785981.41\n",
              "6432     45  12/10/2012   785981.41\n",
              "6433     45  19/10/2012   785981.41\n",
              "6434     45  26/10/2012   785981.41\n",
              "\n",
              "[6435 rows x 3 columns]"
            ],
            "text/html": [
              "\n",
              "  <div id=\"df-843386ba-c8b2-4008-91f8-a83f0515e16f\">\n",
              "    <div class=\"colab-df-container\">\n",
              "      <div>\n",
              "<style scoped>\n",
              "    .dataframe tbody tr th:only-of-type {\n",
              "        vertical-align: middle;\n",
              "    }\n",
              "\n",
              "    .dataframe tbody tr th {\n",
              "        vertical-align: top;\n",
              "    }\n",
              "\n",
              "    .dataframe thead th {\n",
              "        text-align: right;\n",
              "    }\n",
              "</style>\n",
              "<table border=\"1\" class=\"dataframe\">\n",
              "  <thead>\n",
              "    <tr style=\"text-align: right;\">\n",
              "      <th></th>\n",
              "      <th>Store</th>\n",
              "      <th>Date</th>\n",
              "      <th>Mean_Sales</th>\n",
              "    </tr>\n",
              "  </thead>\n",
              "  <tbody>\n",
              "    <tr>\n",
              "      <th>0</th>\n",
              "      <td>1</td>\n",
              "      <td>05/02/2010</td>\n",
              "      <td>1555264.40</td>\n",
              "    </tr>\n",
              "    <tr>\n",
              "      <th>1</th>\n",
              "      <td>1</td>\n",
              "      <td>12/02/2010</td>\n",
              "      <td>1555264.40</td>\n",
              "    </tr>\n",
              "    <tr>\n",
              "      <th>2</th>\n",
              "      <td>1</td>\n",
              "      <td>19/02/2010</td>\n",
              "      <td>1555264.40</td>\n",
              "    </tr>\n",
              "    <tr>\n",
              "      <th>3</th>\n",
              "      <td>1</td>\n",
              "      <td>26/02/2010</td>\n",
              "      <td>1555264.40</td>\n",
              "    </tr>\n",
              "    <tr>\n",
              "      <th>4</th>\n",
              "      <td>1</td>\n",
              "      <td>05/03/2010</td>\n",
              "      <td>1555264.40</td>\n",
              "    </tr>\n",
              "    <tr>\n",
              "      <th>...</th>\n",
              "      <td>...</td>\n",
              "      <td>...</td>\n",
              "      <td>...</td>\n",
              "    </tr>\n",
              "    <tr>\n",
              "      <th>6430</th>\n",
              "      <td>45</td>\n",
              "      <td>28/09/2012</td>\n",
              "      <td>785981.41</td>\n",
              "    </tr>\n",
              "    <tr>\n",
              "      <th>6431</th>\n",
              "      <td>45</td>\n",
              "      <td>05/10/2012</td>\n",
              "      <td>785981.41</td>\n",
              "    </tr>\n",
              "    <tr>\n",
              "      <th>6432</th>\n",
              "      <td>45</td>\n",
              "      <td>12/10/2012</td>\n",
              "      <td>785981.41</td>\n",
              "    </tr>\n",
              "    <tr>\n",
              "      <th>6433</th>\n",
              "      <td>45</td>\n",
              "      <td>19/10/2012</td>\n",
              "      <td>785981.41</td>\n",
              "    </tr>\n",
              "    <tr>\n",
              "      <th>6434</th>\n",
              "      <td>45</td>\n",
              "      <td>26/10/2012</td>\n",
              "      <td>785981.41</td>\n",
              "    </tr>\n",
              "  </tbody>\n",
              "</table>\n",
              "<p>6435 rows × 3 columns</p>\n",
              "</div>\n",
              "      <button class=\"colab-df-convert\" onclick=\"convertToInteractive('df-843386ba-c8b2-4008-91f8-a83f0515e16f')\"\n",
              "              title=\"Convert this dataframe to an interactive table.\"\n",
              "              style=\"display:none;\">\n",
              "        \n",
              "  <svg xmlns=\"http://www.w3.org/2000/svg\" height=\"24px\"viewBox=\"0 0 24 24\"\n",
              "       width=\"24px\">\n",
              "    <path d=\"M0 0h24v24H0V0z\" fill=\"none\"/>\n",
              "    <path d=\"M18.56 5.44l.94 2.06.94-2.06 2.06-.94-2.06-.94-.94-2.06-.94 2.06-2.06.94zm-11 1L8.5 8.5l.94-2.06 2.06-.94-2.06-.94L8.5 2.5l-.94 2.06-2.06.94zm10 10l.94 2.06.94-2.06 2.06-.94-2.06-.94-.94-2.06-.94 2.06-2.06.94z\"/><path d=\"M17.41 7.96l-1.37-1.37c-.4-.4-.92-.59-1.43-.59-.52 0-1.04.2-1.43.59L10.3 9.45l-7.72 7.72c-.78.78-.78 2.05 0 2.83L4 21.41c.39.39.9.59 1.41.59.51 0 1.02-.2 1.41-.59l7.78-7.78 2.81-2.81c.8-.78.8-2.07 0-2.86zM5.41 20L4 18.59l7.72-7.72 1.47 1.35L5.41 20z\"/>\n",
              "  </svg>\n",
              "      </button>\n",
              "      \n",
              "  <style>\n",
              "    .colab-df-container {\n",
              "      display:flex;\n",
              "      flex-wrap:wrap;\n",
              "      gap: 12px;\n",
              "    }\n",
              "\n",
              "    .colab-df-convert {\n",
              "      background-color: #E8F0FE;\n",
              "      border: none;\n",
              "      border-radius: 50%;\n",
              "      cursor: pointer;\n",
              "      display: none;\n",
              "      fill: #1967D2;\n",
              "      height: 32px;\n",
              "      padding: 0 0 0 0;\n",
              "      width: 32px;\n",
              "    }\n",
              "\n",
              "    .colab-df-convert:hover {\n",
              "      background-color: #E2EBFA;\n",
              "      box-shadow: 0px 1px 2px rgba(60, 64, 67, 0.3), 0px 1px 3px 1px rgba(60, 64, 67, 0.15);\n",
              "      fill: #174EA6;\n",
              "    }\n",
              "\n",
              "    [theme=dark] .colab-df-convert {\n",
              "      background-color: #3B4455;\n",
              "      fill: #D2E3FC;\n",
              "    }\n",
              "\n",
              "    [theme=dark] .colab-df-convert:hover {\n",
              "      background-color: #434B5C;\n",
              "      box-shadow: 0px 1px 3px 1px rgba(0, 0, 0, 0.15);\n",
              "      filter: drop-shadow(0px 1px 2px rgba(0, 0, 0, 0.3));\n",
              "      fill: #FFFFFF;\n",
              "    }\n",
              "  </style>\n",
              "\n",
              "      <script>\n",
              "        const buttonEl =\n",
              "          document.querySelector('#df-843386ba-c8b2-4008-91f8-a83f0515e16f button.colab-df-convert');\n",
              "        buttonEl.style.display =\n",
              "          google.colab.kernel.accessAllowed ? 'block' : 'none';\n",
              "\n",
              "        async function convertToInteractive(key) {\n",
              "          const element = document.querySelector('#df-843386ba-c8b2-4008-91f8-a83f0515e16f');\n",
              "          const dataTable =\n",
              "            await google.colab.kernel.invokeFunction('convertToInteractive',\n",
              "                                                     [key], {});\n",
              "          if (!dataTable) return;\n",
              "\n",
              "          const docLinkHtml = 'Like what you see? Visit the ' +\n",
              "            '<a target=\"_blank\" href=https://colab.research.google.com/notebooks/data_table.ipynb>data table notebook</a>'\n",
              "            + ' to learn more about interactive tables.';\n",
              "          element.innerHTML = '';\n",
              "          dataTable['output_type'] = 'display_data';\n",
              "          await google.colab.output.renderOutput(dataTable, element);\n",
              "          const docLink = document.createElement('div');\n",
              "          docLink.innerHTML = docLinkHtml;\n",
              "          element.appendChild(docLink);\n",
              "        }\n",
              "      </script>\n",
              "    </div>\n",
              "  </div>\n",
              "  "
            ]
          },
          "metadata": {},
          "execution_count": 43
        }
      ]
    },
    {
      "cell_type": "code",
      "source": [
        "media_semanal[['Store','Date','Mean_Sales']].max(1)"
      ],
      "metadata": {
        "colab": {
          "base_uri": "https://localhost:8080/"
        },
        "id": "9imiab3dsNRO",
        "outputId": "b4f9cb17-f653-4264-d15d-77fcea870619"
      },
      "execution_count": null,
      "outputs": [
        {
          "output_type": "stream",
          "name": "stderr",
          "text": [
            "/usr/local/lib/python3.7/dist-packages/ipykernel_launcher.py:1: FutureWarning: Dropping of nuisance columns in DataFrame reductions (with 'numeric_only=None') is deprecated; in a future version this will raise TypeError.  Select only valid columns before calling the reduction.\n",
            "  \"\"\"Entry point for launching an IPython kernel.\n"
          ]
        },
        {
          "output_type": "execute_result",
          "data": {
            "text/plain": [
              "0      1555264.40\n",
              "1      1555264.40\n",
              "2      1555264.40\n",
              "3      1555264.40\n",
              "4      1555264.40\n",
              "          ...    \n",
              "6430    785981.41\n",
              "6431    785981.41\n",
              "6432    785981.41\n",
              "6433    785981.41\n",
              "6434    785981.41\n",
              "Length: 6435, dtype: float64"
            ]
          },
          "metadata": {},
          "execution_count": 44
        }
      ]
    },
    {
      "cell_type": "markdown",
      "source": [
        "## 4.2 Vendas máximas, mínimas e médias de todas as lojas ao longo do tempo."
      ],
      "metadata": {
        "id": "ZEZRyh3gQ3j5"
      }
    },
    {
      "cell_type": "code",
      "source": [
        "vendas = df.groupby('Store').agg({'Weekly_Sales':['max', 'min', 'mean']})\n",
        "vendas.head(20)"
      ],
      "metadata": {
        "colab": {
          "base_uri": "https://localhost:8080/",
          "height": 739
        },
        "id": "2ynuaJSjQ894",
        "outputId": "3b9f6a1d-e4bf-4013-a9a1-32c3306cb29e"
      },
      "execution_count": null,
      "outputs": [
        {
          "output_type": "execute_result",
          "data": {
            "text/plain": [
              "      Weekly_Sales                      \n",
              "               max        min       mean\n",
              "Store                                   \n",
              "1       2387950.20 1316899.31 1555264.40\n",
              "2       3436007.68 1650394.44 1925751.34\n",
              "3        605990.41  339597.38  402704.44\n",
              "4       3676388.98 1762539.30 2094712.96\n",
              "5        507900.07  260636.71  318011.81\n",
              "6       2727575.18 1261253.18 1564728.19\n",
              "7       1059715.27  372673.61  570617.31\n",
              "8       1511641.09  772539.12  908749.52\n",
              "9        905324.68  452905.22  543980.55\n",
              "10      3749057.69 1627707.31 1899424.57\n",
              "11      2306265.36 1100418.69 1356383.12\n",
              "12      1768249.89  802105.50 1009001.61\n",
              "13      3595903.20 1633663.12 2003620.31\n",
              "14      3818686.45 1479514.66 2020978.40\n",
              "15      1368318.17  454183.42  623312.47\n",
              "16      1004730.69  368600.00  519247.73\n",
              "17      1309226.79  635862.55  893581.39\n",
              "18      2027507.15  540922.94 1084718.42\n",
              "19      2678206.42 1181204.53 1444999.04\n",
              "20      3766687.43 1761016.51 2107676.87"
            ],
            "text/html": [
              "\n",
              "  <div id=\"df-12ba4b58-3469-4248-94a9-2106842543d1\">\n",
              "    <div class=\"colab-df-container\">\n",
              "      <div>\n",
              "<style scoped>\n",
              "    .dataframe tbody tr th:only-of-type {\n",
              "        vertical-align: middle;\n",
              "    }\n",
              "\n",
              "    .dataframe tbody tr th {\n",
              "        vertical-align: top;\n",
              "    }\n",
              "\n",
              "    .dataframe thead tr th {\n",
              "        text-align: left;\n",
              "    }\n",
              "\n",
              "    .dataframe thead tr:last-of-type th {\n",
              "        text-align: right;\n",
              "    }\n",
              "</style>\n",
              "<table border=\"1\" class=\"dataframe\">\n",
              "  <thead>\n",
              "    <tr>\n",
              "      <th></th>\n",
              "      <th colspan=\"3\" halign=\"left\">Weekly_Sales</th>\n",
              "    </tr>\n",
              "    <tr>\n",
              "      <th></th>\n",
              "      <th>max</th>\n",
              "      <th>min</th>\n",
              "      <th>mean</th>\n",
              "    </tr>\n",
              "    <tr>\n",
              "      <th>Store</th>\n",
              "      <th></th>\n",
              "      <th></th>\n",
              "      <th></th>\n",
              "    </tr>\n",
              "  </thead>\n",
              "  <tbody>\n",
              "    <tr>\n",
              "      <th>1</th>\n",
              "      <td>2387950.20</td>\n",
              "      <td>1316899.31</td>\n",
              "      <td>1555264.40</td>\n",
              "    </tr>\n",
              "    <tr>\n",
              "      <th>2</th>\n",
              "      <td>3436007.68</td>\n",
              "      <td>1650394.44</td>\n",
              "      <td>1925751.34</td>\n",
              "    </tr>\n",
              "    <tr>\n",
              "      <th>3</th>\n",
              "      <td>605990.41</td>\n",
              "      <td>339597.38</td>\n",
              "      <td>402704.44</td>\n",
              "    </tr>\n",
              "    <tr>\n",
              "      <th>4</th>\n",
              "      <td>3676388.98</td>\n",
              "      <td>1762539.30</td>\n",
              "      <td>2094712.96</td>\n",
              "    </tr>\n",
              "    <tr>\n",
              "      <th>5</th>\n",
              "      <td>507900.07</td>\n",
              "      <td>260636.71</td>\n",
              "      <td>318011.81</td>\n",
              "    </tr>\n",
              "    <tr>\n",
              "      <th>6</th>\n",
              "      <td>2727575.18</td>\n",
              "      <td>1261253.18</td>\n",
              "      <td>1564728.19</td>\n",
              "    </tr>\n",
              "    <tr>\n",
              "      <th>7</th>\n",
              "      <td>1059715.27</td>\n",
              "      <td>372673.61</td>\n",
              "      <td>570617.31</td>\n",
              "    </tr>\n",
              "    <tr>\n",
              "      <th>8</th>\n",
              "      <td>1511641.09</td>\n",
              "      <td>772539.12</td>\n",
              "      <td>908749.52</td>\n",
              "    </tr>\n",
              "    <tr>\n",
              "      <th>9</th>\n",
              "      <td>905324.68</td>\n",
              "      <td>452905.22</td>\n",
              "      <td>543980.55</td>\n",
              "    </tr>\n",
              "    <tr>\n",
              "      <th>10</th>\n",
              "      <td>3749057.69</td>\n",
              "      <td>1627707.31</td>\n",
              "      <td>1899424.57</td>\n",
              "    </tr>\n",
              "    <tr>\n",
              "      <th>11</th>\n",
              "      <td>2306265.36</td>\n",
              "      <td>1100418.69</td>\n",
              "      <td>1356383.12</td>\n",
              "    </tr>\n",
              "    <tr>\n",
              "      <th>12</th>\n",
              "      <td>1768249.89</td>\n",
              "      <td>802105.50</td>\n",
              "      <td>1009001.61</td>\n",
              "    </tr>\n",
              "    <tr>\n",
              "      <th>13</th>\n",
              "      <td>3595903.20</td>\n",
              "      <td>1633663.12</td>\n",
              "      <td>2003620.31</td>\n",
              "    </tr>\n",
              "    <tr>\n",
              "      <th>14</th>\n",
              "      <td>3818686.45</td>\n",
              "      <td>1479514.66</td>\n",
              "      <td>2020978.40</td>\n",
              "    </tr>\n",
              "    <tr>\n",
              "      <th>15</th>\n",
              "      <td>1368318.17</td>\n",
              "      <td>454183.42</td>\n",
              "      <td>623312.47</td>\n",
              "    </tr>\n",
              "    <tr>\n",
              "      <th>16</th>\n",
              "      <td>1004730.69</td>\n",
              "      <td>368600.00</td>\n",
              "      <td>519247.73</td>\n",
              "    </tr>\n",
              "    <tr>\n",
              "      <th>17</th>\n",
              "      <td>1309226.79</td>\n",
              "      <td>635862.55</td>\n",
              "      <td>893581.39</td>\n",
              "    </tr>\n",
              "    <tr>\n",
              "      <th>18</th>\n",
              "      <td>2027507.15</td>\n",
              "      <td>540922.94</td>\n",
              "      <td>1084718.42</td>\n",
              "    </tr>\n",
              "    <tr>\n",
              "      <th>19</th>\n",
              "      <td>2678206.42</td>\n",
              "      <td>1181204.53</td>\n",
              "      <td>1444999.04</td>\n",
              "    </tr>\n",
              "    <tr>\n",
              "      <th>20</th>\n",
              "      <td>3766687.43</td>\n",
              "      <td>1761016.51</td>\n",
              "      <td>2107676.87</td>\n",
              "    </tr>\n",
              "  </tbody>\n",
              "</table>\n",
              "</div>\n",
              "      <button class=\"colab-df-convert\" onclick=\"convertToInteractive('df-12ba4b58-3469-4248-94a9-2106842543d1')\"\n",
              "              title=\"Convert this dataframe to an interactive table.\"\n",
              "              style=\"display:none;\">\n",
              "        \n",
              "  <svg xmlns=\"http://www.w3.org/2000/svg\" height=\"24px\"viewBox=\"0 0 24 24\"\n",
              "       width=\"24px\">\n",
              "    <path d=\"M0 0h24v24H0V0z\" fill=\"none\"/>\n",
              "    <path d=\"M18.56 5.44l.94 2.06.94-2.06 2.06-.94-2.06-.94-.94-2.06-.94 2.06-2.06.94zm-11 1L8.5 8.5l.94-2.06 2.06-.94-2.06-.94L8.5 2.5l-.94 2.06-2.06.94zm10 10l.94 2.06.94-2.06 2.06-.94-2.06-.94-.94-2.06-.94 2.06-2.06.94z\"/><path d=\"M17.41 7.96l-1.37-1.37c-.4-.4-.92-.59-1.43-.59-.52 0-1.04.2-1.43.59L10.3 9.45l-7.72 7.72c-.78.78-.78 2.05 0 2.83L4 21.41c.39.39.9.59 1.41.59.51 0 1.02-.2 1.41-.59l7.78-7.78 2.81-2.81c.8-.78.8-2.07 0-2.86zM5.41 20L4 18.59l7.72-7.72 1.47 1.35L5.41 20z\"/>\n",
              "  </svg>\n",
              "      </button>\n",
              "      \n",
              "  <style>\n",
              "    .colab-df-container {\n",
              "      display:flex;\n",
              "      flex-wrap:wrap;\n",
              "      gap: 12px;\n",
              "    }\n",
              "\n",
              "    .colab-df-convert {\n",
              "      background-color: #E8F0FE;\n",
              "      border: none;\n",
              "      border-radius: 50%;\n",
              "      cursor: pointer;\n",
              "      display: none;\n",
              "      fill: #1967D2;\n",
              "      height: 32px;\n",
              "      padding: 0 0 0 0;\n",
              "      width: 32px;\n",
              "    }\n",
              "\n",
              "    .colab-df-convert:hover {\n",
              "      background-color: #E2EBFA;\n",
              "      box-shadow: 0px 1px 2px rgba(60, 64, 67, 0.3), 0px 1px 3px 1px rgba(60, 64, 67, 0.15);\n",
              "      fill: #174EA6;\n",
              "    }\n",
              "\n",
              "    [theme=dark] .colab-df-convert {\n",
              "      background-color: #3B4455;\n",
              "      fill: #D2E3FC;\n",
              "    }\n",
              "\n",
              "    [theme=dark] .colab-df-convert:hover {\n",
              "      background-color: #434B5C;\n",
              "      box-shadow: 0px 1px 3px 1px rgba(0, 0, 0, 0.15);\n",
              "      filter: drop-shadow(0px 1px 2px rgba(0, 0, 0, 0.3));\n",
              "      fill: #FFFFFF;\n",
              "    }\n",
              "  </style>\n",
              "\n",
              "      <script>\n",
              "        const buttonEl =\n",
              "          document.querySelector('#df-12ba4b58-3469-4248-94a9-2106842543d1 button.colab-df-convert');\n",
              "        buttonEl.style.display =\n",
              "          google.colab.kernel.accessAllowed ? 'block' : 'none';\n",
              "\n",
              "        async function convertToInteractive(key) {\n",
              "          const element = document.querySelector('#df-12ba4b58-3469-4248-94a9-2106842543d1');\n",
              "          const dataTable =\n",
              "            await google.colab.kernel.invokeFunction('convertToInteractive',\n",
              "                                                     [key], {});\n",
              "          if (!dataTable) return;\n",
              "\n",
              "          const docLinkHtml = 'Like what you see? Visit the ' +\n",
              "            '<a target=\"_blank\" href=https://colab.research.google.com/notebooks/data_table.ipynb>data table notebook</a>'\n",
              "            + ' to learn more about interactive tables.';\n",
              "          element.innerHTML = '';\n",
              "          dataTable['output_type'] = 'display_data';\n",
              "          await google.colab.output.renderOutput(dataTable, element);\n",
              "          const docLink = document.createElement('div');\n",
              "          docLink.innerHTML = docLinkHtml;\n",
              "          element.appendChild(docLink);\n",
              "        }\n",
              "      </script>\n",
              "    </div>\n",
              "  </div>\n",
              "  "
            ]
          },
          "metadata": {},
          "execution_count": 35
        }
      ]
    },
    {
      "cell_type": "markdown",
      "source": [
        "##4.3 Gráfico vendas máximas, mínimas e médias"
      ],
      "metadata": {
        "id": "Pk1dh1_09mbL"
      }
    },
    {
      "cell_type": "markdown",
      "source": [],
      "metadata": {
        "id": "BJkP46vmuPF5"
      }
    },
    {
      "cell_type": "code",
      "source": [
        "plt.figure(figsize=(27, 10))\n",
        "sns.boxplot(x=\"Store\", \n",
        "            y=\"Weekly_Sales\", \n",
        "            data=df,\n",
        "            color=\"#007DC6\", \n",
        "            showmeans=True, \n",
        "            meanprops={\"marker\": \"D\", \n",
        "                       \"markeredgecolor\": \"none\",\n",
        "                       \"markerfacecolor\":\"#FCB040\", \n",
        "                       \"markersize\": \"6\"} )\n",
        "plt.title(\"Vendas Semanais por Loja Wallmart\",fontsize=20)\n",
        "plt.ylabel(\"Vendas\", fontsize= 15)\n",
        "plt.xlabel(\"Lojas\",fontsize=15)\n",
        "plt.tick_params(labelsize=12)\n",
        "plt.show()"
      ],
      "metadata": {
        "colab": {
          "base_uri": "https://localhost:8080/",
          "height": 389
        },
        "id": "hpIpYhmIuUC8",
        "outputId": "5754e308-2759-49c0-b3de-0d2a60cf1e42"
      },
      "execution_count": null,
      "outputs": [
        {
          "output_type": "display_data",
          "data": {
            "text/plain": [
              "<Figure size 1944x720 with 1 Axes>"
            ],
            "image/png": "[encoded data removed]"
          },
          "metadata": {
            "needs_background": "light"
          }
        }
      ]
    },
    {
      "cell_type": "markdown",
      "source": [
        "## 4.4 Comparativo do preço do combustível por região"
      ],
      "metadata": {
        "id": "CQWm1dlZ90Kr"
      }
    },
    {
      "cell_type": "markdown",
      "source": [
        "### 4.4.1 preço médio do combustivel:"
      ],
      "metadata": {
        "id": "zgrZKCvL-9Ca"
      }
    },
    {
      "cell_type": "code",
      "source": [
        "df['Fuel_Price'].mean()"
      ],
      "metadata": {
        "id": "ZQM5Mnm0-kB0",
        "colab": {
          "base_uri": "https://localhost:8080/"
        },
        "outputId": "49e9076d-3cd3-4aa8-e4db-ba12e4104578"
      },
      "execution_count": null,
      "outputs": [
        {
          "output_type": "execute_result",
          "data": {
            "text/plain": [
              "3.358606837606838"
            ]
          },
          "metadata": {},
          "execution_count": 18
        }
      ]
    },
    {
      "cell_type": "markdown",
      "source": [
        "### 4.4.2 Menores preços do combustível por loja"
      ],
      "metadata": {
        "id": "q0AVCZQZ_NKq"
      }
    },
    {
      "cell_type": "code",
      "source": [
        "# Lojas com menores preços de combustível\n",
        "fuel_price = df.groupby(['Store'])['Fuel_Price'].mean().sort_values()\n",
        "fuel_price.head()"
      ],
      "metadata": {
        "id": "qqjZ_Ta6-wxs",
        "colab": {
          "base_uri": "https://localhost:8080/"
        },
        "outputId": "b60da3e4-0257-4ea2-f1fc-aaa635b58dbd"
      },
      "execution_count": null,
      "outputs": [
        {
          "output_type": "execute_result",
          "data": {
            "text/plain": [
              "Store\n",
              "36   3.20\n",
              "34   3.22\n",
              "4    3.22\n",
              "1    3.22\n",
              "21   3.22\n",
              "Name: Fuel_Price, dtype: float64"
            ]
          },
          "metadata": {},
          "execution_count": 19
        }
      ]
    },
    {
      "cell_type": "markdown",
      "source": [
        "### 4.4.3 Representação gráfica desse quantitativo"
      ],
      "metadata": {
        "id": "ySNVw_R6ALwR"
      }
    },
    {
      "cell_type": "code",
      "source": [
        "plt.figure(figsize=(30, 10))\n",
        "sns.barplot(x=\"Store\", \n",
        "            y=\"Fuel_Price\", \n",
        "            data=df,\n",
        "            color=\"#04B45F\",\n",
        "             )\n",
        "plt.title(\"Preço do Combustível próximo à loja\",fontsize=20)\n",
        "plt.ylabel(\"Preço do Combustível\", fontsize= 15)\n",
        "plt.xlabel(\"Lojas\",fontsize=15)\n",
        "plt.tick_params(labelsize=12)\n",
        "plt.show()"
      ],
      "metadata": {
        "id": "FLRaRpwsASIR",
        "colab": {
          "base_uri": "https://localhost:8080/",
          "height": 354
        },
        "outputId": "6b55e08d-bd3a-42b9-84b0-bd5c868e8d25"
      },
      "execution_count": null,
      "outputs": [
        {
          "output_type": "display_data",
          "data": {
            "text/plain": [
              "<Figure size 2160x720 with 1 Axes>"
            ],
            "image/png": "[encoded data removed]"
          },
          "metadata": {
            "needs_background": "light"
          }
        }
      ]
    },
    {
      "cell_type": "markdown",
      "source": [],
      "metadata": {
        "id": "2QIpv9Dx-Imi"
      }
    },
    {
      "cell_type": "markdown",
      "source": [
        "## 4.5 Comparativo de taxa de desemprego (se essa taxa for elevada então estimasse o baixo consumo na região)."
      ],
      "metadata": {
        "id": "eFCx9f_n1Zhy"
      }
    },
    {
      "cell_type": "markdown",
      "source": [
        "### 4.5.1 Dez primeiras Lojas com menores taxas de desemprego"
      ],
      "metadata": {
        "id": "jwwruTR73WyE"
      }
    },
    {
      "cell_type": "code",
      "source": [
        "\n",
        "desemprego = df.groupby('Store')['Unemployment'].mean().sort_values()\n",
        "desemprego.head(10)"
      ],
      "metadata": {
        "id": "wNMO_YBv1wSM",
        "colab": {
          "base_uri": "https://localhost:8080/"
        },
        "outputId": "e502f957-3af6-4c79-9fa9-08c905f66164"
      },
      "execution_count": null,
      "outputs": [
        {
          "output_type": "execute_result",
          "data": {
            "text/plain": [
              "Store\n",
              "23   4.80\n",
              "40   4.80\n",
              "4    5.96\n",
              "8    6.09\n",
              "9    6.10\n",
              "5    6.30\n",
              "16   6.48\n",
              "17   6.55\n",
              "6    6.61\n",
              "44   6.74\n",
              "Name: Unemployment, dtype: float64"
            ]
          },
          "metadata": {},
          "execution_count": 47
        }
      ]
    },
    {
      "cell_type": "markdown",
      "source": [],
      "metadata": {
        "id": "CjfU4efR3l_s"
      }
    },
    {
      "cell_type": "markdown",
      "source": [
        "### 4.5.2 Gráfico com a Taxa de desemprego por região de cada Loja"
      ],
      "metadata": {
        "id": "ZxpkYMC24K5E"
      }
    },
    {
      "cell_type": "code",
      "source": [
        "\n",
        "plt.figure(figsize=(30, 10))\n",
        "sns.barplot(x=\"Store\", \n",
        "            y=\"Unemployment\", \n",
        "            data=df,\n",
        "            color=\"#01A9DB\")\n",
        "plt.title(\"Taxa de desemprego por região de cada Loja\",fontsize=20)\n",
        "plt.ylabel(\"Taxa de desemprego\", fontsize= 15)\n",
        "plt.xlabel(\"Lojas\",fontsize=15)\n",
        "plt.tick_params(labelsize=12)\n",
        "plt.show()"
      ],
      "metadata": {
        "id": "2yWu0t473ySf",
        "colab": {
          "base_uri": "https://localhost:8080/",
          "height": 354
        },
        "outputId": "aa9c2559-ba08-4cce-e3ca-37b034de5206"
      },
      "execution_count": null,
      "outputs": [
        {
          "output_type": "display_data",
          "data": {
            "text/plain": [
              "<Figure size 2160x720 with 1 Axes>"
            ],
            "image/png": "[encoded data removed]"
          },
          "metadata": {
            "needs_background": "light"
          }
        }
      ]
    },
    {
      "cell_type": "markdown",
      "source": [
        "##4.6 Temperatura por região de cada loja, pois se ela for baixa há tendência de neve que impacta diretamente nos fluxos de vendas."
      ],
      "metadata": {
        "id": "4JeySVquI286"
      }
    },
    {
      "cell_type": "code",
      "source": [
        "df_temp = df[['Temperature', 'Store']]\n",
        "df_grp = df_temp.groupby(['Temperature', 'Store'], as_index=False).count()\n",
        "df_grp"
      ],
      "metadata": {
        "id": "6FGxIsR_JZbg",
        "colab": {
          "base_uri": "https://localhost:8080/",
          "height": 424
        },
        "outputId": "db05b3d1-ff40-4acf-9190-da389b8a1b1f"
      },
      "execution_count": null,
      "outputs": [
        {
          "output_type": "execute_result",
          "data": {
            "text/plain": [
              "      Temperature  Store\n",
              "0           -2.06      7\n",
              "1            5.54     26\n",
              "2            6.23     17\n",
              "3            7.46      7\n",
              "4            9.51     40\n",
              "...           ...    ...\n",
              "6325        99.22     28\n",
              "6326        99.22     38\n",
              "6327        99.66     33\n",
              "6328       100.07     33\n",
              "6329       100.14     33\n",
              "\n",
              "[6330 rows x 2 columns]"
            ],
            "text/html": [
              "\n",
              "  <div id=\"df-63de311d-32ea-4f4b-bf07-2b7e32fc418b\">\n",
              "    <div class=\"colab-df-container\">\n",
              "      <div>\n",
              "<style scoped>\n",
              "    .dataframe tbody tr th:only-of-type {\n",
              "        vertical-align: middle;\n",
              "    }\n",
              "\n",
              "    .dataframe tbody tr th {\n",
              "        vertical-align: top;\n",
              "    }\n",
              "\n",
              "    .dataframe thead th {\n",
              "        text-align: right;\n",
              "    }\n",
              "</style>\n",
              "<table border=\"1\" class=\"dataframe\">\n",
              "  <thead>\n",
              "    <tr style=\"text-align: right;\">\n",
              "      <th></th>\n",
              "      <th>Temperature</th>\n",
              "      <th>Store</th>\n",
              "    </tr>\n",
              "  </thead>\n",
              "  <tbody>\n",
              "    <tr>\n",
              "      <th>0</th>\n",
              "      <td>-2.06</td>\n",
              "      <td>7</td>\n",
              "    </tr>\n",
              "    <tr>\n",
              "      <th>1</th>\n",
              "      <td>5.54</td>\n",
              "      <td>26</td>\n",
              "    </tr>\n",
              "    <tr>\n",
              "      <th>2</th>\n",
              "      <td>6.23</td>\n",
              "      <td>17</td>\n",
              "    </tr>\n",
              "    <tr>\n",
              "      <th>3</th>\n",
              "      <td>7.46</td>\n",
              "      <td>7</td>\n",
              "    </tr>\n",
              "    <tr>\n",
              "      <th>4</th>\n",
              "      <td>9.51</td>\n",
              "      <td>40</td>\n",
              "    </tr>\n",
              "    <tr>\n",
              "      <th>...</th>\n",
              "      <td>...</td>\n",
              "      <td>...</td>\n",
              "    </tr>\n",
              "    <tr>\n",
              "      <th>6325</th>\n",
              "      <td>99.22</td>\n",
              "      <td>28</td>\n",
              "    </tr>\n",
              "    <tr>\n",
              "      <th>6326</th>\n",
              "      <td>99.22</td>\n",
              "      <td>38</td>\n",
              "    </tr>\n",
              "    <tr>\n",
              "      <th>6327</th>\n",
              "      <td>99.66</td>\n",
              "      <td>33</td>\n",
              "    </tr>\n",
              "    <tr>\n",
              "      <th>6328</th>\n",
              "      <td>100.07</td>\n",
              "      <td>33</td>\n",
              "    </tr>\n",
              "    <tr>\n",
              "      <th>6329</th>\n",
              "      <td>100.14</td>\n",
              "      <td>33</td>\n",
              "    </tr>\n",
              "  </tbody>\n",
              "</table>\n",
              "<p>6330 rows × 2 columns</p>\n",
              "</div>\n",
              "      <button class=\"colab-df-convert\" onclick=\"convertToInteractive('df-63de311d-32ea-4f4b-bf07-2b7e32fc418b')\"\n",
              "              title=\"Convert this dataframe to an interactive table.\"\n",
              "              style=\"display:none;\">\n",
              "        \n",
              "  <svg xmlns=\"http://www.w3.org/2000/svg\" height=\"24px\"viewBox=\"0 0 24 24\"\n",
              "       width=\"24px\">\n",
              "    <path d=\"M0 0h24v24H0V0z\" fill=\"none\"/>\n",
              "    <path d=\"M18.56 5.44l.94 2.06.94-2.06 2.06-.94-2.06-.94-.94-2.06-.94 2.06-2.06.94zm-11 1L8.5 8.5l.94-2.06 2.06-.94-2.06-.94L8.5 2.5l-.94 2.06-2.06.94zm10 10l.94 2.06.94-2.06 2.06-.94-2.06-.94-.94-2.06-.94 2.06-2.06.94z\"/><path d=\"M17.41 7.96l-1.37-1.37c-.4-.4-.92-.59-1.43-.59-.52 0-1.04.2-1.43.59L10.3 9.45l-7.72 7.72c-.78.78-.78 2.05 0 2.83L4 21.41c.39.39.9.59 1.41.59.51 0 1.02-.2 1.41-.59l7.78-7.78 2.81-2.81c.8-.78.8-2.07 0-2.86zM5.41 20L4 18.59l7.72-7.72 1.47 1.35L5.41 20z\"/>\n",
              "  </svg>\n",
              "      </button>\n",
              "      \n",
              "  <style>\n",
              "    .colab-df-container {\n",
              "      display:flex;\n",
              "      flex-wrap:wrap;\n",
              "      gap: 12px;\n",
              "    }\n",
              "\n",
              "    .colab-df-convert {\n",
              "      background-color: #E8F0FE;\n",
              "      border: none;\n",
              "      border-radius: 50%;\n",
              "      cursor: pointer;\n",
              "      display: none;\n",
              "      fill: #1967D2;\n",
              "      height: 32px;\n",
              "      padding: 0 0 0 0;\n",
              "      width: 32px;\n",
              "    }\n",
              "\n",
              "    .colab-df-convert:hover {\n",
              "      background-color: #E2EBFA;\n",
              "      box-shadow: 0px 1px 2px rgba(60, 64, 67, 0.3), 0px 1px 3px 1px rgba(60, 64, 67, 0.15);\n",
              "      fill: #174EA6;\n",
              "    }\n",
              "\n",
              "    [theme=dark] .colab-df-convert {\n",
              "      background-color: #3B4455;\n",
              "      fill: #D2E3FC;\n",
              "    }\n",
              "\n",
              "    [theme=dark] .colab-df-convert:hover {\n",
              "      background-color: #434B5C;\n",
              "      box-shadow: 0px 1px 3px 1px rgba(0, 0, 0, 0.15);\n",
              "      filter: drop-shadow(0px 1px 2px rgba(0, 0, 0, 0.3));\n",
              "      fill: #FFFFFF;\n",
              "    }\n",
              "  </style>\n",
              "\n",
              "      <script>\n",
              "        const buttonEl =\n",
              "          document.querySelector('#df-63de311d-32ea-4f4b-bf07-2b7e32fc418b button.colab-df-convert');\n",
              "        buttonEl.style.display =\n",
              "          google.colab.kernel.accessAllowed ? 'block' : 'none';\n",
              "\n",
              "        async function convertToInteractive(key) {\n",
              "          const element = document.querySelector('#df-63de311d-32ea-4f4b-bf07-2b7e32fc418b');\n",
              "          const dataTable =\n",
              "            await google.colab.kernel.invokeFunction('convertToInteractive',\n",
              "                                                     [key], {});\n",
              "          if (!dataTable) return;\n",
              "\n",
              "          const docLinkHtml = 'Like what you see? Visit the ' +\n",
              "            '<a target=\"_blank\" href=https://colab.research.google.com/notebooks/data_table.ipynb>data table notebook</a>'\n",
              "            + ' to learn more about interactive tables.';\n",
              "          element.innerHTML = '';\n",
              "          dataTable['output_type'] = 'display_data';\n",
              "          await google.colab.output.renderOutput(dataTable, element);\n",
              "          const docLink = document.createElement('div');\n",
              "          docLink.innerHTML = docLinkHtml;\n",
              "          element.appendChild(docLink);\n",
              "        }\n",
              "      </script>\n",
              "    </div>\n",
              "  </div>\n",
              "  "
            ]
          },
          "metadata": {},
          "execution_count": 49
        }
      ]
    }
  ]
}